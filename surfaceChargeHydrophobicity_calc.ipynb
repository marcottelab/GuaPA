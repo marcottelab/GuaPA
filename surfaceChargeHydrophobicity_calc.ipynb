{
 "cells": [
  {
   "cell_type": "markdown",
   "metadata": {},
   "source": [
    "## Calculate the total Hydrophobicity and total surface charge of proteins"
   ]
  },
  {
   "cell_type": "code",
   "execution_count": null,
   "metadata": {},
   "outputs": [],
   "source": [
    "#Amino acid sequences for PETases of interest \n",
    "#GuaPA\n",
    "GuaPA = \"VGQIDGVFTDENYGEYEVTIYYPAINSGVSQPPDKSGAPYPAIIFAHGWLTSKELYTWIGNYCAAQGYVTLLFSVPDPTSLEAFRQSVTGITKSIDYLLVQNQGGLLSGLINTSRIGVMGHSMGAMAVLIATTEDSRIKAAVSLAPGYFGSTTKKYVEACKSIRVPIQFQAGSLDKICPPSAVETYYNAVRIPPKEIIVINGADHIQFSDAPATLWANITLEEQHETSRKYFIAWFNYYLRDDFNYYAYLFGSEARKDMENGILSSLEYVERFDC\"\n",
    "#LCC: >LCC, leaf compost metagenome, highly similar to HRB29 locus GBD22443\n",
    "LCC_PAZy = \"MDGVLWRVRTAALMAALLALAAWALVWASPSVEAQSNPYQRGPNPTRSALTADGPFSVATYTVSRLSVSGFGGGVIYYPTGTSLTFGGIAMSPGYTADASSLAWLGRRLASHGFVVLVINTNSRFDYPDSRASQLSAALNYLRTSSPSAVRARLDANRLAVAGHSMGGGGTLRIAEQNPSLKAAVPLTPWHTDKTFNTSVPVLIVGAEADTVAPVSQHAIPFYQNLPSTTPKVYVELDNASHFAPNSNNAAISVYTISWMKLWVDNDTRYRQFLCNVNDPALSDFRTNNRHCQ\"\n",
    "LCC_ICCMpaper = \"M35SNPYQRGPNPTRSALTADGPFSVATYTVSRLSVSGFGGGVIYYPTGTSLTFGGIAMSPGYTADASSLAWLGRRLASHGFVVLVINTNSRFDYPDSRASQLSAALNYLRTSSPSAVRARLDANRLAVAGHSMGGGGTLRIAEQNPSLKAAVPLTPWHTDKTFNTSVPVLIVGAEADTVAPVSQHAIPFYQNLPSTTPKVYVELDNASHFAPNSNNAAISVYTISWMKLWVDNDTRYRQFLCNVNDPALSDFRTNNRHCQLEHHHHHH\"\n",
    "#IsPETase >Ideonella sakaiensis 201-F6, ISPETase, ISF6_4831\n",
    "IsPETase = \"MNFPRASRLMQAAVLGGLMAVSAAATAQTNPYARGPNPTAASLEASAGPFTVRSFTVSRPSGYGAGTVYYPTNAGGTVGAIAIVPGYTARQSSIKWWGPRLASHGFVVITIDTNSTLDQPSSRSSQQMAALRQVASLNGTSSSPIYGKVDTARMGVMGWSMGGGGSLISAANNPSLKAAAPQAPWDSSTNFSSVTVPTLIFACENDSIAPVNSSALPIYDSMSRNAKQFLEINGGSHSCANSGNSNQALIGKKGVAWMKRFMDNDTRYSTFACENPNSTRVSDFRTANCS\"\n",
    "#PHL7 >Thermoanaerobacter sp. , PHL-7 (PES-H1; PES-H2)\n",
    "phl7 = \"MANPYERGPDPTESSIEAVRGPFAVAQTTVSRLQADGFGGGTIYYPTDTSQGTFGAVAISPGFTAGQESIAWLGPRIASQGFVVITIDTITRLDQPDSRGRQLQAALDHLRTNSVVRNRIDPNRMAVMGHSMGGGGALSAAANNTSLEAAIPLQGWHTRKNWSSVRTPTLVVGAQLDTIAPVSSHSEAFYNSLPSDLDKAYMELRGASHLVSNTPDTTTAKYSIAWLKRFVDDDLRYEQFLCPAPDDFAISEYRSTCPFLEHHHHHH\"\n",
    "#HiC >Humicola insolens , HiC\n",
    "HiC = \"QLGAIENGLESGSANACPDAILIFARGSTEPGNMGITVGPALANGLESHIRNIWIQGVGGPYDAALATNFLPRGTSQANIDEGKRLFALANQKCPNTPVVAGGYSQGAALIAAAVSELSGAVKEQVKGVALFGYTQNLQNRGGIPNYPRERTKVFCNVGDAVCTGTLIITPAHLSYTIEARGEAARFLRDRIRA\"\n",
    "#FAST PETase>FASTPETase||sp|A0A0K8P6T7|PETH_IDESA Poly(ethylene terephthalate) hydrolase OS=Ideonella sakaiensis (strain NBRC 110686 / TISTR 2288 / 201-F6) OX=1547922 GN=ISF6_4831 PE=1 SV=1\n",
    "FastPETase = \"MNFPRASRLMQAAVLGGLMAVSAAATAQTNPYARGPNPTAASLEASAGPFTVRSFTVSRPSGYGAGTVYYPTNAGGTVGAIAIVPGYTARQSSIKWWGPRLASHGFVVITIDTNSTLDQPESRSSQQMAALRQVASLNGTSSSPIYGKVDTARMGVMGWSMGGGGSLISAANNPSLKAAAPQAPWHSSTNFSSVTVPTLIFACENDSIAPVNSSALPIYDSMSQNAKQFLEIKGGSHSCANSGNSNQALIGKKGVAWMKRFMDNDTRYSTFACENPNSTAVSDFRTANCS\"\n",
    "#ICCM is LCC with F243I/D238C/S283C/N246M (ICCM)\n",
    "iccm = \"MSNPYQRGPNPTRSALTADGPFSVATYTVSRLSVSGFGGGVIYYPTGTSLTFGGIAMSPGYTADASSLAWLGRRLASHGFVVLVINTNSRFDYPDSRASQLSAALNYLRTSSPSAVRARLDANRLAVAGHSMGGGGTLRIAEQNPSLKAAVPLTPWHTDKTFNTSVPVLIVGAEADTVAPVSQHAIPFYQNLPSTTPKVYVELCNASHIAPMSNNAAISVYTISWMKLWVDNDTRYRQFLCNVNDPALCDFRTNNRHCQLEHHHHHH\"\n",
    "\n",
    "#Protein dictionary \n",
    "protein_list = {'GuaPA':GuaPA, 'LCC_PAZy':LCC_PAZy, 'LCC_ISSMpaper':LCC_ICCMpaper, 'ISPETase':IsPETase, 'PHL-7':phl7, 'HiC':HiC, 'FastPETase':FastPETase, 'ICCM':iccm}"
   ]
  },
  {
   "cell_type": "code",
   "execution_count": null,
   "metadata": {},
   "outputs": [],
   "source": [
    "from Bio import SeqIO\n",
    "from Bio.SeqUtils import ProtParam\n",
    "\n",
    "# Hydrophobicity scale: Kyte & Doolittle index of hydrophobicity\n",
    "KD_SCALE = {\n",
    "    'I': 4.5, 'V': 4.2, 'L': 3.8, 'F': 2.8, 'C': 2.5,\n",
    "    'M': 1.9, 'A': 1.8, 'G': -0.4, 'T': -0.7, 'S': -0.8,\n",
    "    'W': -0.9, 'Y': -1.3, 'P': -1.6, 'H': -3.2,\n",
    "    'E': -3.5, 'Q': -3.5, 'D': -3.5, 'N': -3.5, 'K': -3.9,\n",
    "    'R': -4.5\n",
    "}\n",
    "\n",
    "#Function to calculate hydrophobicity \n",
    "\n",
    "def calculate_hydrophobicity(sequence):\n",
    "    hydrophobicity = sum(KD_SCALE[residue] for residue in sequence if residue in KD_SCALE) / len(sequence)\n",
    "    return hydrophobicity"
   ]
  },
  {
   "cell_type": "code",
   "execution_count": null,
   "metadata": {},
   "outputs": [
    {
     "name": "stdout",
     "output_type": "stream",
     "text": [
      "GuaPO: -0.0713\n",
      "LCC_PAZy: -0.0478\n",
      "LCC_ISSMpaper: -0.245\n",
      "ISPETase: -0.167\n",
      "PHL-7: -0.335\n",
      "HiC: -0.0335\n",
      "FastPETase: -0.152\n",
      "ICCM: -0.185\n"
     ]
    }
   ],
   "source": [
    "# Calculate hydrophobicity for each protein\n",
    "prot_props = {}\n",
    "for prot in protein_list: \n",
    "    prot_props[prot] = calculate_hydrophobicity(str(protein_list[prot]))\n",
    "    print(f\"{prot}: Hydrophobicity: {prot_props[prot][0]:.3}\")"
   ]
  },
  {
   "cell_type": "code",
   "execution_count": null,
   "metadata": {},
   "outputs": [
    {
     "name": "stdout",
     "output_type": "stream",
     "text": [
      "GuaPO: Aromaticity: 13.09%, total charge at pH=7.4: -9.48, total charge at pH=8.0: -10.4, Isoelectric Point: 4.95\n",
      "LCC_PAZy: Aromaticity: 9.56%, total charge at pH=7.4: 4.43, total charge at pH=8.0: 3.82, Isoelectric Point: 9.32\n",
      "LCC_ISSMpaper: Aromaticity: 9.29%, total charge at pH=7.4: 3.65, total charge at pH=8.0: 2.88, Isoelectric Point: 9.14\n",
      "ISPETase: Aromaticity: 7.93%, total charge at pH=7.4: 8.23, total charge at pH=8.0: 7.6, Isoelectric Point: 9.65\n",
      "PHL-7: Aromaticity: 8.24%, total charge at pH=7.4: -6.37, total charge at pH=8.0: -7.1, Isoelectric Point: 5.97\n",
      "HiC: Aromaticity: 6.19%, total charge at pH=7.4: 1.52, total charge at pH=8.0: 0.799, Isoelectric Point: 8.43\n",
      "FastPETase: Aromaticity: 7.93%, total charge at pH=7.4: 7.27, total charge at pH=8.0: 6.6, Isoelectric Point: 9.51\n",
      "ICCM: Aromaticity: 8.99%, total charge at pH=7.4: 4.6, total charge at pH=8.0: 3.69, Isoelectric Point: 9.12\n"
     ]
    }
   ],
   "source": [
    "#Calculating the isoelectric point (pI) of a protein sequence, charge, and aromaticity: \n",
    "from Bio import SeqIO\n",
    "from Bio.SeqUtils.ProtParam import ProteinAnalysis \n",
    "\n",
    "prot_props = {}\n",
    "for prot in protein_list: \n",
    "    pp = ProteinAnalysis(str(protein_list[prot]))\n",
    "    prot_props[prot] = pp.aromaticity(), pp.charge_at_pH(7.4), pp.charge_at_pH(8.0), pp.isoelectric_point()\n",
    "    print(f\"{prot}: Aromaticity: {prot_props[prot][0]:.2%}, total charge at pH=7.4: {prot_props[prot][1]:.3}, total charge at pH=8.0: {prot_props[prot][2]:.3}, Isoelectric Point: {prot_props[prot][3]:.3}\")"
   ]
  }
 ],
 "metadata": {
  "kernelspec": {
   "display_name": "Python 3",
   "language": "python",
   "name": "python3"
  },
  "language_info": {
   "codemirror_mode": {
    "name": "ipython",
    "version": 3
   },
   "file_extension": ".py",
   "mimetype": "text/x-python",
   "name": "python",
   "nbconvert_exporter": "python",
   "pygments_lexer": "ipython3",
   "version": "3.8.11"
  }
 },
 "nbformat": 4,
 "nbformat_minor": 2
}
